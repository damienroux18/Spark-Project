{
 "cells": [
  {
   "cell_type": "markdown",
   "metadata": {},
   "source": [
    "# PROJET SPARK - Charger et traiter les données sur le prix du gaz avec Spark"
   ]
  },
  {
   "cell_type": "code",
   "execution_count": 1,
   "metadata": {},
   "outputs": [],
   "source": [
    "import pandas as pd\n",
    "import numpy as np\n",
    "%matplotlib inline\n",
    "import matplotlib.pyplot as plt\n",
    "import seaborn as sns\n",
    "import pickle\n",
    "\n",
    "import warnings \n",
    "warnings.filterwarnings('ignore')\n",
    "\n",
    "import pyspark\n",
    "#import os\n",
    "\n",
    "from pyspark.sql.functions import *\n",
    "from pyspark.sql.types import * \n",
    "from pyspark.sql import *\n",
    "\n",
    "import pygal.maps.fr\n",
    "import pyspark.sql.functions as func"
   ]
  },
  {
   "cell_type": "code",
   "execution_count": 2,
   "metadata": {},
   "outputs": [],
   "source": [
    "#os.environ['JAVA_HOME'] = '/Library/Java/JavaVirtualMachines/jdk-10.0.2.jdk/Contents/Home'"
   ]
  },
  {
   "cell_type": "code",
   "execution_count": 3,
   "metadata": {},
   "outputs": [],
   "source": [
    "#os.environ['SPARK_HOME'] = '/Users/marionaurat/Downloads/spark-2.3.1-bin-hadoop2.7'"
   ]
  },
  {
   "cell_type": "code",
   "execution_count": 4,
   "metadata": {},
   "outputs": [],
   "source": [
    "sc = pyspark.SparkContext()"
   ]
  },
  {
   "cell_type": "code",
   "execution_count": 5,
   "metadata": {},
   "outputs": [
    {
     "data": {
      "text/plain": [
       "[('spark.driver.port', '50917'),\n",
       " ('spark.rdd.compress', 'True'),\n",
       " ('spark.app.id', 'local-1545386811091'),\n",
       " ('spark.driver.host', '147.94.77.46'),\n",
       " ('spark.serializer.objectStreamReset', '100'),\n",
       " ('spark.master', 'local[*]'),\n",
       " ('spark.executor.id', 'driver'),\n",
       " ('spark.submit.deployMode', 'client'),\n",
       " ('spark.ui.showConsoleProgress', 'true'),\n",
       " ('spark.app.name', 'pyspark-shell')]"
      ]
     },
     "execution_count": 5,
     "metadata": {},
     "output_type": "execute_result"
    }
   ],
   "source": [
    "sc._conf.getAll()"
   ]
  },
  {
   "cell_type": "code",
   "execution_count": 6,
   "metadata": {},
   "outputs": [],
   "source": [
    "sqlsc = pyspark.SQLContext(sc)"
   ]
  },
  {
   "cell_type": "code",
   "execution_count": 7,
   "metadata": {},
   "outputs": [],
   "source": [
    "spark = sqlsc.sparkSession"
   ]
  },
  {
   "cell_type": "markdown",
   "metadata": {},
   "source": [
    "# Step 1 - Fusion des fichiers de prix du gaz"
   ]
  },
  {
   "cell_type": "markdown",
   "metadata": {},
   "source": [
    "### Collecte de données : lecture et fusion de tous les fichiers de gaz"
   ]
  },
  {
   "cell_type": "code",
   "execution_count": 8,
   "metadata": {},
   "outputs": [],
   "source": [
    "prix2015_df = sqlsc.read.option('sep',';').option('header','false').option('inferSchema','true').csv('/Users/marionaurat/Downloads/Prix2015.csv')\n",
    "prix2016_df = sqlsc.read.option('sep',';').option('header','false').option('inferSchema','true').csv('/Users/marionaurat/Downloads/Prix2016.csv')\n",
    "prix2017_df = sqlsc.read.option('sep',';').option('header','false').option('inferSchema','true').csv('/Users/marionaurat/Downloads/Prix2017.csv')\n",
    "prix2018_df = sqlsc.read.option('sep',';').option('header','false').option('inferSchema','true').csv('/Users/marionaurat/Downloads/Prix2018.csv')\n",
    "\n",
    "prix_df = prix2015_df.union(prix2016_df).union(prix2017_df).union(prix2018_df)"
   ]
  },
  {
   "cell_type": "code",
   "execution_count": 9,
   "metadata": {},
   "outputs": [
    {
     "name": "stdout",
     "output_type": "stream",
     "text": [
      "root\n",
      " |-- _c0: integer (nullable = true)\n",
      " |-- _c1: integer (nullable = true)\n",
      " |-- _c2: string (nullable = true)\n",
      " |-- _c3: double (nullable = true)\n",
      " |-- _c4: double (nullable = true)\n",
      " |-- _c5: timestamp (nullable = true)\n",
      " |-- _c6: integer (nullable = true)\n",
      " |-- _c7: string (nullable = true)\n",
      " |-- _c8: integer (nullable = true)\n",
      "\n"
     ]
    }
   ],
   "source": [
    "prix_df.printSchema()"
   ]
  },
  {
   "cell_type": "code",
   "execution_count": 10,
   "metadata": {},
   "outputs": [
    {
     "name": "stdout",
     "output_type": "stream",
     "text": [
      "+-------+----+---+---------+--------+-------------------+---+------+----+\n",
      "|    _c0| _c1|_c2|      _c3|     _c4|                _c5|_c6|   _c7| _c8|\n",
      "+-------+----+---+---------+--------+-------------------+---+------+----+\n",
      "|1000001|1000|  R|4620114.0|519791.0|2015-01-02 11:01:45|  1|Gazole|1141|\n",
      "|1000001|1000|  R|4620114.0|519791.0|2015-01-03 09:01:42|  1|Gazole|1141|\n",
      "|1000001|1000|  R|4620114.0|519791.0|2015-01-07 10:01:44|  1|Gazole|1141|\n",
      "|1000001|1000|  R|4620114.0|519791.0|2015-01-08 10:01:06|  1|Gazole|1115|\n",
      "|1000001|1000|  R|4620114.0|519791.0|2015-01-09 10:01:19|  1|Gazole|1115|\n",
      "+-------+----+---+---------+--------+-------------------+---+------+----+\n",
      "only showing top 5 rows\n",
      "\n"
     ]
    }
   ],
   "source": [
    "prix_df.show(5)"
   ]
  },
  {
   "cell_type": "code",
   "execution_count": 11,
   "metadata": {},
   "outputs": [
    {
     "data": {
      "text/plain": [
       "14192497"
      ]
     },
     "execution_count": 11,
     "metadata": {},
     "output_type": "execute_result"
    }
   ],
   "source": [
    "prix_df.count()"
   ]
  },
  {
   "cell_type": "markdown",
   "metadata": {},
   "source": [
    "### Séparer la date en 3 : année, mois et semaine de l'année"
   ]
  },
  {
   "cell_type": "code",
   "execution_count": 12,
   "metadata": {},
   "outputs": [],
   "source": [
    "from pyspark.sql.functions import to_date, date_format"
   ]
  },
  {
   "cell_type": "code",
   "execution_count": 13,
   "metadata": {},
   "outputs": [],
   "source": [
    "prix_df = prix_df.withColumn(\"annee\", date_format(to_date(\"_c5\", \"yyyy-MM-dd\"), \"y\"))\n",
    "prix_df = prix_df.withColumn(\"mois\", date_format(to_date(\"_c5\", \"yyyy-MM-dd\"), \"M\"))\n",
    "prix_df = prix_df.withColumn(\"semaine\", date_format(to_date(\"_c5\", \"yyyy-MM-dd\"), \"w\"))"
   ]
  },
  {
   "cell_type": "markdown",
   "metadata": {},
   "source": [
    "Ici, on a créé 3 nouvelles variables (colones) qui sont: annee, mois et semaine."
   ]
  },
  {
   "cell_type": "code",
   "execution_count": 14,
   "metadata": {},
   "outputs": [
    {
     "name": "stdout",
     "output_type": "stream",
     "text": [
      "+-------+----+---+---------+--------+-------------------+---+------+----+-----+----+-------+\n",
      "|    _c0| _c1|_c2|      _c3|     _c4|                _c5|_c6|   _c7| _c8|annee|mois|semaine|\n",
      "+-------+----+---+---------+--------+-------------------+---+------+----+-----+----+-------+\n",
      "|1000001|1000|  R|4620114.0|519791.0|2015-01-02 11:01:45|  1|Gazole|1141| 2015|   1|      1|\n",
      "|1000001|1000|  R|4620114.0|519791.0|2015-01-03 09:01:42|  1|Gazole|1141| 2015|   1|      1|\n",
      "|1000001|1000|  R|4620114.0|519791.0|2015-01-07 10:01:44|  1|Gazole|1141| 2015|   1|      2|\n",
      "|1000001|1000|  R|4620114.0|519791.0|2015-01-08 10:01:06|  1|Gazole|1115| 2015|   1|      2|\n",
      "|1000001|1000|  R|4620114.0|519791.0|2015-01-09 10:01:19|  1|Gazole|1115| 2015|   1|      2|\n",
      "+-------+----+---+---------+--------+-------------------+---+------+----+-----+----+-------+\n",
      "only showing top 5 rows\n",
      "\n"
     ]
    }
   ],
   "source": [
    "prix_df.show(5)"
   ]
  },
  {
   "cell_type": "markdown",
   "metadata": {},
   "source": [
    "### Préparer la latitude et la longitude pour la cartographie + préparer les données"
   ]
  },
  {
   "cell_type": "markdown",
   "metadata": {},
   "source": [
    "Nous avons d'abord regarder le nombre de NaN"
   ]
  },
  {
   "cell_type": "code",
   "execution_count": 15,
   "metadata": {},
   "outputs": [
    {
     "data": {
      "text/plain": [
       "7773"
      ]
     },
     "execution_count": 15,
     "metadata": {},
     "output_type": "execute_result"
    }
   ],
   "source": [
    "prix_df.filter(prix_df[\"_c3\"].isNull()).count()"
   ]
  },
  {
   "cell_type": "code",
   "execution_count": 16,
   "metadata": {},
   "outputs": [
    {
     "data": {
      "text/plain": [
       "7768"
      ]
     },
     "execution_count": 16,
     "metadata": {},
     "output_type": "execute_result"
    }
   ],
   "source": [
    "prix_df.filter(prix_df[\"_c4\"].isNull()).count()"
   ]
  },
  {
   "cell_type": "code",
   "execution_count": 17,
   "metadata": {},
   "outputs": [
    {
     "data": {
      "text/plain": [
       "11170"
      ]
     },
     "execution_count": 17,
     "metadata": {},
     "output_type": "execute_result"
    }
   ],
   "source": [
    "prix_df.filter(prix_df[\"_c5\"].isNull()).count()"
   ]
  },
  {
   "cell_type": "markdown",
   "metadata": {},
   "source": [
    "_c5, _c6, _c7, _c8, annee, mois et semaine ont le même nombre de NaN -> 11 170.\n",
    "\n",
    "Grâce au dropna, dans la commande suivante nous avons à la fois renommer nos colones ainsi qu'éliminer les NaN."
   ]
  },
  {
   "cell_type": "code",
   "execution_count": 18,
   "metadata": {},
   "outputs": [],
   "source": [
    "prix_df = prix_df.selectExpr(\n",
    "    '_c0 as id_station', \n",
    "    '_c1 as code_postal',\n",
    "    '_c2 as type_station',\n",
    "    '_c3/100000 as latitude',\n",
    "    '_c4/100000 as longitude',\n",
    "    '_c5 as date_releve',\n",
    "    '_c6 as type_carburant',\n",
    "    '_c7 as libelle_carburant',\n",
    "    '_c8/1000 as prix',\n",
    "    'annee',\n",
    "    'mois',\n",
    "    'semaine'\n",
    ").dropna()"
   ]
  },
  {
   "cell_type": "code",
   "execution_count": 19,
   "metadata": {},
   "outputs": [
    {
     "name": "stdout",
     "output_type": "stream",
     "text": [
      "+----------+-----------+------------+--------+---------+-------------------+--------------+-----------------+-----+-----+----+-------+\n",
      "|id_station|code_postal|type_station|latitude|longitude|        date_releve|type_carburant|libelle_carburant| prix|annee|mois|semaine|\n",
      "+----------+-----------+------------+--------+---------+-------------------+--------------+-----------------+-----+-----+----+-------+\n",
      "|   1000001|       1000|           R|46.20114|  5.19791|2015-01-02 11:01:45|             1|           Gazole|1.141| 2015|   1|      1|\n",
      "|   1000001|       1000|           R|46.20114|  5.19791|2015-01-03 09:01:42|             1|           Gazole|1.141| 2015|   1|      1|\n",
      "|   1000001|       1000|           R|46.20114|  5.19791|2015-01-07 10:01:44|             1|           Gazole|1.141| 2015|   1|      2|\n",
      "|   1000001|       1000|           R|46.20114|  5.19791|2015-01-08 10:01:06|             1|           Gazole|1.115| 2015|   1|      2|\n",
      "|   1000001|       1000|           R|46.20114|  5.19791|2015-01-09 10:01:19|             1|           Gazole|1.115| 2015|   1|      2|\n",
      "+----------+-----------+------------+--------+---------+-------------------+--------------+-----------------+-----+-----+----+-------+\n",
      "only showing top 5 rows\n",
      "\n"
     ]
    }
   ],
   "source": [
    "prix_df.show(5)"
   ]
  },
  {
   "cell_type": "code",
   "execution_count": 20,
   "metadata": {},
   "outputs": [
    {
     "data": {
      "text/plain": [
       "14173853"
      ]
     },
     "execution_count": 20,
     "metadata": {},
     "output_type": "execute_result"
    }
   ],
   "source": [
    "prix_df.count()"
   ]
  },
  {
   "cell_type": "markdown",
   "metadata": {},
   "source": [
    "### Rendre les données disponibles sous forme de table afin de pouvoir utiliser Spark SQL"
   ]
  },
  {
   "cell_type": "code",
   "execution_count": 21,
   "metadata": {},
   "outputs": [],
   "source": [
    "sqlsc.registerDataFrameAsTable(prix_df, 'data_prix')"
   ]
  },
  {
   "cell_type": "markdown",
   "metadata": {},
   "source": [
    "# Step 2 - Déduplication de stations"
   ]
  },
  {
   "cell_type": "markdown",
   "metadata": {},
   "source": [
    "Certaines stations ont des id_station différents, mais sont en fait situées au même endroit (ce qui peut être dû à une fausse récréation, à un changement de propriétaire, etc). Cette étape permet de créer un identifiant de station unique pour l'ensemble des fichiers."
   ]
  },
  {
   "cell_type": "markdown",
   "metadata": {},
   "source": [
    "### Lire et fusionner tous les fichiers stations (2016-2018)"
   ]
  },
  {
   "cell_type": "code",
   "execution_count": 22,
   "metadata": {},
   "outputs": [],
   "source": [
    "stations2016_df = spark.read.load('/Users/marionaurat/Downloads/Stations2016.csv', format='csv', sep='|', header='false', inferSchema='true', PYTHONIOENCODING='utf-8')\n",
    "\n",
    "stations2017_df = spark.read.load('/Users/marionaurat/Downloads/Stations2017.csv', format='csv', sep='|', header='false', inferSchema='true', PYTHONIOENCODING='utf-8')\n",
    "\n",
    "stations2018_df = spark.read.load('/Users/marionaurat/Downloads/Stations2018.csv', format='csv', sep='|', header='false', inferSchema='true', PYTHONIOENCODING='utf-8')"
   ]
  },
  {
   "cell_type": "code",
   "execution_count": 23,
   "metadata": {},
   "outputs": [],
   "source": [
    "stations_df = stations2016_df.union(stations2017_df).union(stations2018_df)"
   ]
  },
  {
   "cell_type": "code",
   "execution_count": 24,
   "metadata": {},
   "outputs": [
    {
     "name": "stdout",
     "output_type": "stream",
     "text": [
      "+-------+----+---+-------------+-------------+--------------------+--------------------+\n",
      "|    _c0| _c1|_c2|          _c3|          _c4|                 _c5|                 _c6|\n",
      "+-------+----+---+-------------+-------------+--------------------+--------------------+\n",
      "|1000001|1000|  R|    4620114.0|     519791.0|596 AVENUE DE TRE...|SAINT-DENIS-LèS-B...|\n",
      "|1000002|1000|  R|    4621842.0|     522767.0| 16 Avenue de Marboz|     BOURG-EN-BRESSE|\n",
      "|1000004|1000|  R|    4618836.0|     524447.0|20 Avenue du Maré...|     Bourg-en-Bresse|\n",
      "|1000005|1000|  R|4620093.59235|519942.024022|642 Avenue de Tré...|SAINT-DENIS-LèS-B...|\n",
      "|1000006|1000|  R|    4620754.0|     523758.0|1 Boulevard John ...|     BOURG-EN-BRESSE|\n",
      "+-------+----+---+-------------+-------------+--------------------+--------------------+\n",
      "only showing top 5 rows\n",
      "\n"
     ]
    }
   ],
   "source": [
    "stations_df.show(5)"
   ]
  },
  {
   "cell_type": "code",
   "execution_count": 25,
   "metadata": {},
   "outputs": [
    {
     "data": {
      "text/plain": [
       "37679"
      ]
     },
     "execution_count": 25,
     "metadata": {},
     "output_type": "execute_result"
    }
   ],
   "source": [
    "stations_df.count()"
   ]
  },
  {
   "cell_type": "markdown",
   "metadata": {},
   "source": [
    "La encore on regarde le nombre de NaN."
   ]
  },
  {
   "cell_type": "code",
   "execution_count": 26,
   "metadata": {},
   "outputs": [
    {
     "data": {
      "text/plain": [
       "238"
      ]
     },
     "execution_count": 26,
     "metadata": {},
     "output_type": "execute_result"
    }
   ],
   "source": [
    "stations_df.filter(stations_df[\"_c3\"].isNull()).count()"
   ]
  },
  {
   "cell_type": "code",
   "execution_count": 27,
   "metadata": {},
   "outputs": [
    {
     "data": {
      "text/plain": [
       "235"
      ]
     },
     "execution_count": 27,
     "metadata": {},
     "output_type": "execute_result"
    }
   ],
   "source": [
    "stations_df.filter(stations_df[\"_c4\"].isNull()).count()"
   ]
  },
  {
   "cell_type": "code",
   "execution_count": 28,
   "metadata": {},
   "outputs": [
    {
     "data": {
      "text/plain": [
       "2"
      ]
     },
     "execution_count": 28,
     "metadata": {},
     "output_type": "execute_result"
    }
   ],
   "source": [
    "stations_df.filter(stations_df[\"_c6\"].isNull()).count()"
   ]
  },
  {
   "cell_type": "code",
   "execution_count": 29,
   "metadata": {},
   "outputs": [],
   "source": [
    "stations_df = stations_df.selectExpr(\n",
    "    '_c0 as id_station', \n",
    "    '_c1 as code_postal',\n",
    "    '_c2 as type_station',\n",
    "    '_c3/100000 as latitude',\n",
    "    '_c4/100000 as longitude',\n",
    "    '_c5 as addresse',\n",
    "    '_c6 as ville',\n",
    ").dropna().cache()"
   ]
  },
  {
   "cell_type": "code",
   "execution_count": 30,
   "metadata": {},
   "outputs": [
    {
     "name": "stdout",
     "output_type": "stream",
     "text": [
      "+----------+-----------+------------+-------------+-------------+--------------------+--------------------+\n",
      "|id_station|code_postal|type_station|     latitude|    longitude|            addresse|               ville|\n",
      "+----------+-----------+------------+-------------+-------------+--------------------+--------------------+\n",
      "|   1000001|       1000|           R|     46.20114|      5.19791|596 AVENUE DE TRE...|SAINT-DENIS-LèS-B...|\n",
      "|   1000002|       1000|           R|     46.21842|      5.22767| 16 Avenue de Marboz|     BOURG-EN-BRESSE|\n",
      "|   1000004|       1000|           R|     46.18836|      5.24447|20 Avenue du Maré...|     Bourg-en-Bresse|\n",
      "|   1000005|       1000|           R|46.2009359235|5.19942024022|642 Avenue de Tré...|SAINT-DENIS-LèS-B...|\n",
      "|   1000006|       1000|           R|     46.20754|      5.23758|1 Boulevard John ...|     BOURG-EN-BRESSE|\n",
      "+----------+-----------+------------+-------------+-------------+--------------------+--------------------+\n",
      "only showing top 5 rows\n",
      "\n"
     ]
    }
   ],
   "source": [
    "stations_df.show(5)"
   ]
  },
  {
   "cell_type": "code",
   "execution_count": 31,
   "metadata": {},
   "outputs": [
    {
     "data": {
      "text/plain": [
       "37439"
      ]
     },
     "execution_count": 31,
     "metadata": {},
     "output_type": "execute_result"
    }
   ],
   "source": [
    "stations_df.count()"
   ]
  },
  {
   "cell_type": "markdown",
   "metadata": {},
   "source": [
    "### Dédupliquer les stations en fonction de leur emplacement"
   ]
  },
  {
   "cell_type": "markdown",
   "metadata": {},
   "source": [
    "Nous avons choisi de le faire en fonction de la latitute et de la longitute).\n",
    "\n",
    "Nous avons aussi retirer les id_stations qui étaient dupliqués."
   ]
  },
  {
   "cell_type": "code",
   "execution_count": 32,
   "metadata": {},
   "outputs": [],
   "source": [
    "stations_df = stations_df.dropDuplicates(['latitude', 'longitude', 'id_station'])"
   ]
  },
  {
   "cell_type": "code",
   "execution_count": 33,
   "metadata": {},
   "outputs": [
    {
     "data": {
      "text/plain": [
       "18101"
      ]
     },
     "execution_count": 33,
     "metadata": {},
     "output_type": "execute_result"
    }
   ],
   "source": [
    "stations_df.count()"
   ]
  },
  {
   "cell_type": "markdown",
   "metadata": {},
   "source": [
    "### Grouper par stations par clé(s) de déduplication sélectionnée(s), générer un ID unique"
   ]
  },
  {
   "cell_type": "markdown",
   "metadata": {},
   "source": [
    "Pour cela, on a sélectionner l'id_station le plus grand (max) pour l'appliquer aux autres stations qui n'avaient pas le même id_stations mais qui avaient la même localisation (en fonction de latitude et longitude)."
   ]
  },
  {
   "cell_type": "code",
   "execution_count": 34,
   "metadata": {
    "scrolled": true
   },
   "outputs": [],
   "source": [
    "stations_unique_df = stations_df.groupBy(['latitude','longitude']).agg({'id_station' : 'max'})"
   ]
  },
  {
   "cell_type": "code",
   "execution_count": 35,
   "metadata": {},
   "outputs": [],
   "source": [
    "stations_unique_df = stations_unique_df.select(col(\"latitude\").alias(\"latitude\"), col(\"longitude\").alias(\"longitude\"), col(\"max(id_station)\").alias(\"id_unique\"))"
   ]
  },
  {
   "cell_type": "code",
   "execution_count": 36,
   "metadata": {},
   "outputs": [
    {
     "name": "stdout",
     "output_type": "stream",
     "text": [
      "+--------+-------------------+---------+\n",
      "|latitude|          longitude|id_unique|\n",
      "+--------+-------------------+---------+\n",
      "|48.53901|           -2.98844| 22170003|\n",
      "|5.672E-5|          4.6325E-4|  1590002|\n",
      "|44.91366|            4.44244|  7160003|\n",
      "|  48.978|              6.026| 54530002|\n",
      "|45.00888|0.15155000000003999| 24700001|\n",
      "+--------+-------------------+---------+\n",
      "only showing top 5 rows\n",
      "\n"
     ]
    }
   ],
   "source": [
    "stations_unique_df.show(5)"
   ]
  },
  {
   "cell_type": "code",
   "execution_count": 37,
   "metadata": {},
   "outputs": [
    {
     "data": {
      "text/plain": [
       "16960"
      ]
     },
     "execution_count": 37,
     "metadata": {},
     "output_type": "execute_result"
    }
   ],
   "source": [
    "stations_unique_df.count()"
   ]
  },
  {
   "cell_type": "code",
   "execution_count": 38,
   "metadata": {},
   "outputs": [
    {
     "name": "stdout",
     "output_type": "stream",
     "text": [
      "+--------+---------+---------+\n",
      "|latitude|longitude|id_unique|\n",
      "+--------+---------+---------+\n",
      "| 41.8873|   8.8077| 20166006|\n",
      "+--------+---------+---------+\n",
      "\n"
     ]
    }
   ],
   "source": [
    "stations_unique_df.filter((stations_unique_df.latitude==41.8873) & (stations_unique_df.longitude== 8.8077)).show()"
   ]
  },
  {
   "cell_type": "markdown",
   "metadata": {},
   "source": [
    "Grâce à ce code, nous pouvons vérifier que notre code à bien marcher."
   ]
  },
  {
   "cell_type": "code",
   "execution_count": 39,
   "metadata": {},
   "outputs": [],
   "source": [
    "stations_df = stations_df.join(stations_unique_df, on=['latitude', 'longitude'], how='left_outer')"
   ]
  },
  {
   "cell_type": "markdown",
   "metadata": {},
   "source": [
    "Nous avons joint la base créer avec l'ID unique à la base générales des stations."
   ]
  },
  {
   "cell_type": "code",
   "execution_count": 40,
   "metadata": {},
   "outputs": [
    {
     "name": "stdout",
     "output_type": "stream",
     "text": [
      "+--------------------+---------+----------+-----------+------------+--------------------+--------------------+---------+\n",
      "|            latitude|longitude|id_station|code_postal|type_station|            addresse|               ville|id_unique|\n",
      "+--------------------+---------+----------+-----------+------------+--------------------+--------------------+---------+\n",
      "|1.034000000000000...|4.9451E-4|  76380005|      76380|           R|     rue de Montigny|            CANTELEU| 76380005|\n",
      "|            2.541E-5|5.0544E-4|  62920001|      62920|           R|    14 Rue Nationale|            CHOCQUES| 62920001|\n",
      "|5.022000000000000...|4.3642E-4|  13626001|      13300|           R|    Route de Miramas|   SALON-DE-PROVENCE| 13626001|\n",
      "|            6.817E-5|4.7952E-4|  88290001|      88290|           R|    814 ROUTE DU BEU|Saulxures-sur-Mos...| 88290001|\n",
      "|             1.61966| 48.79287|  78550009|      78550|           R|22 AVENUE GERARD ...|            MAULETTE| 78550009|\n",
      "+--------------------+---------+----------+-----------+------------+--------------------+--------------------+---------+\n",
      "only showing top 5 rows\n",
      "\n"
     ]
    }
   ],
   "source": [
    "stations_df.show(5)"
   ]
  },
  {
   "cell_type": "code",
   "execution_count": 41,
   "metadata": {},
   "outputs": [
    {
     "data": {
      "text/plain": [
       "18101"
      ]
     },
     "execution_count": 41,
     "metadata": {},
     "output_type": "execute_result"
    }
   ],
   "source": [
    "stations_df.count()"
   ]
  },
  {
   "cell_type": "code",
   "execution_count": 42,
   "metadata": {},
   "outputs": [
    {
     "name": "stdout",
     "output_type": "stream",
     "text": [
      "+--------+---------+----------+-----------+------------+--------------------+---------------+---------+\n",
      "|latitude|longitude|id_station|code_postal|type_station|            addresse|          ville|id_unique|\n",
      "+--------+---------+----------+-----------+------------+--------------------+---------------+---------+\n",
      "| 41.8873|   8.8077|  20166004|      20166|           R|CTRE COMMERCIAL B...|GROSSETO-PRUGNA| 20166006|\n",
      "| 41.8873|   8.8077|  20166006|      20166|           R|Les Marines de Po...|      PORTICCIO| 20166006|\n",
      "+--------+---------+----------+-----------+------------+--------------------+---------------+---------+\n",
      "\n"
     ]
    }
   ],
   "source": [
    "stations_df.filter((stations_df.latitude==41.8873) & (stations_df.longitude== 8.8077)).show()"
   ]
  },
  {
   "cell_type": "markdown",
   "metadata": {},
   "source": [
    "Ce code nous permet de vérifier que la déduplication a bien été réalisé et que l'id unique a bien été généré."
   ]
  },
  {
   "cell_type": "markdown",
   "metadata": {},
   "source": [
    "### Générer une table de correspondance associant l'identifiant de la station dans le fichier avec cet identifiant unique"
   ]
  },
  {
   "cell_type": "code",
   "execution_count": 43,
   "metadata": {},
   "outputs": [
    {
     "name": "stdout",
     "output_type": "stream",
     "text": [
      "+----------+---------+\n",
      "|id_station|id_unique|\n",
      "+----------+---------+\n",
      "|   8000003|  8000003|\n",
      "|   9600002|  9600002|\n",
      "|  10270005| 10270005|\n",
      "|  12310002| 12310002|\n",
      "|  13010011| 13010011|\n",
      "|  13016005| 13016005|\n",
      "|  14600007| 14600007|\n",
      "|  19250002| 19250002|\n",
      "|  19340001| 19340001|\n",
      "|  20130002| 20130002|\n",
      "|  20167008| 20167008|\n",
      "|  20250001| 20250001|\n",
      "|  22160001| 22160001|\n",
      "|  22410001| 22410001|\n",
      "|  22950003| 22950003|\n",
      "|  23500002| 23500002|\n",
      "|  29150003| 29150003|\n",
      "|  33400004| 33400004|\n",
      "|  33990003| 33990003|\n",
      "|  34000015| 34000015|\n",
      "+----------+---------+\n",
      "only showing top 20 rows\n",
      "\n"
     ]
    }
   ],
   "source": [
    "table_carte = stations_df.select('id_station','id_unique')\n",
    "table_carte.show()"
   ]
  },
  {
   "cell_type": "markdown",
   "metadata": {},
   "source": [
    "### Joindre ce tableau aux données de prix pour les analyses à venir"
   ]
  },
  {
   "cell_type": "code",
   "execution_count": 44,
   "metadata": {},
   "outputs": [],
   "source": [
    "prix_df = prix_df.join(table_carte, on=['id_station'], how='left_outer')"
   ]
  },
  {
   "cell_type": "code",
   "execution_count": 45,
   "metadata": {
    "scrolled": true
   },
   "outputs": [
    {
     "name": "stdout",
     "output_type": "stream",
     "text": [
      "+----------+-----------+------------+-------------+------------------+-------------------+--------------+-----------------+-----+-----+----+-------+---------+\n",
      "|id_station|code_postal|type_station|     latitude|         longitude|        date_releve|type_carburant|libelle_carburant| prix|annee|mois|semaine|id_unique|\n",
      "+----------+-----------+------------+-------------+------------------+-------------------+--------------+-----------------+-----+-----+----+-------+---------+\n",
      "|   1160005|       1160|           R|46.0533506156|5.3374103671699995|2015-02-18 00:02:00|             1|           Gazole|1.195| 2015|   2|      8|  1160005|\n",
      "|   1160005|       1160|           R|46.0533506156|5.3374103671699995|2015-02-19 00:02:00|             1|           Gazole|1.189| 2015|   2|      8|  1160005|\n",
      "|   1160005|       1160|           R|46.0533506156|5.3374103671699995|2015-02-20 00:02:00|             1|           Gazole|1.187| 2015|   2|      8|  1160005|\n",
      "|   1160005|       1160|           R|46.0533506156|5.3374103671699995|2015-02-25 00:02:00|             1|           Gazole|1.197| 2015|   2|      9|  1160005|\n",
      "|   1160005|       1160|           R|46.0533506156|5.3374103671699995|2015-02-27 00:02:00|             1|           Gazole|1.193| 2015|   2|      9|  1160005|\n",
      "+----------+-----------+------------+-------------+------------------+-------------------+--------------+-----------------+-----+-----+----+-------+---------+\n",
      "only showing top 5 rows\n",
      "\n"
     ]
    }
   ],
   "source": [
    "prix_df.show(5)"
   ]
  },
  {
   "cell_type": "markdown",
   "metadata": {},
   "source": [
    "# Step 3 - Calculer l'indice des prix pour chaque station par jour"
   ]
  },
  {
   "cell_type": "markdown",
   "metadata": {},
   "source": [
    "Calculer une nouvelle variable appelée \"Indice des prix\" pour chaque type de gaz vendu dans une station. Voici la formule :"
   ]
  },
  {
   "cell_type": "markdown",
   "metadata": {},
   "source": [
    "indice_prix = $$100 * (\\frac{Day\\:Price\\:in\\:station-Average\\:Day\\:price\\:in\\:France}{Average\\:Day\\:Price\\:in\\:france} + 1)$$"
   ]
  },
  {
   "cell_type": "code",
   "execution_count": 46,
   "metadata": {},
   "outputs": [],
   "source": [
    "prix_df = prix_df.withColumn(\"data_jour\", date_format(to_date(\"date_releve\", \"yyyy-MM-dd\"), \"yyyy-MM-dd\"))"
   ]
  },
  {
   "cell_type": "code",
   "execution_count": 47,
   "metadata": {},
   "outputs": [],
   "source": [
    "prix_moyen = prix_df.groupBy(['data_jour','libelle_carburant']).agg({'prix' : 'mean'})"
   ]
  },
  {
   "cell_type": "code",
   "execution_count": 48,
   "metadata": {},
   "outputs": [],
   "source": [
    "prix_moyen = prix_moyen.select(col(\"data_jour\").alias(\"data_jour\"), col(\"libelle_carburant\").alias(\"libelle_carburant\"), \n",
    "                         col(\"avg(prix)\").alias(\"prix_moyen\"))"
   ]
  },
  {
   "cell_type": "code",
   "execution_count": 49,
   "metadata": {},
   "outputs": [
    {
     "name": "stdout",
     "output_type": "stream",
     "text": [
      "+----------+-----------------+------------------+\n",
      "| data_jour|libelle_carburant|        prix_moyen|\n",
      "+----------+-----------------+------------------+\n",
      "|2015-07-10|           Gazole|1.1869934398174562|\n",
      "|2015-10-07|           Gazole|1.1170884159719172|\n",
      "|2015-10-31|           Gazole|1.1011531227393294|\n",
      "|2015-11-10|           Gazole|1.1199706199046298|\n",
      "|2015-10-03|              E10|1.2901088495575217|\n",
      "+----------+-----------------+------------------+\n",
      "only showing top 5 rows\n",
      "\n"
     ]
    }
   ],
   "source": [
    "prix_moyen.show(5)"
   ]
  },
  {
   "cell_type": "code",
   "execution_count": 50,
   "metadata": {},
   "outputs": [],
   "source": [
    "prix_df = prix_df.join(prix_moyen, on=['data_jour','libelle_carburant'], how='left_outer')"
   ]
  },
  {
   "cell_type": "code",
   "execution_count": 51,
   "metadata": {},
   "outputs": [],
   "source": [
    "prix_df = prix_df.withColumn(\"indice_prix\", (100*(((prix_df.prix - prix_df.prix_moyen)/prix_df.prix_moyen))+1))"
   ]
  },
  {
   "cell_type": "code",
   "execution_count": 52,
   "metadata": {},
   "outputs": [
    {
     "data": {
      "text/plain": [
       "Row(data_jour='2015-04-27', libelle_carburant='SP98', id_station=6530004, code_postal=6530, type_station='R', latitude=43.64368, longitude=6.88271, date_releve=datetime.datetime(2015, 4, 27, 6, 4), type_carburant=6, prix=1.58, annee='2015', mois='4', semaine='18', id_unique=6530004, prix_moyen=1.489107631639991, indice_prix=7.10381455502361)"
      ]
     },
     "execution_count": 52,
     "metadata": {},
     "output_type": "execute_result"
    }
   ],
   "source": [
    "prix_df.head()"
   ]
  },
  {
   "cell_type": "markdown",
   "metadata": {},
   "source": [
    "# Visualisation des données"
   ]
  },
  {
   "cell_type": "markdown",
   "metadata": {},
   "source": [
    "### En utilisant matplotlib"
   ]
  },
  {
   "cell_type": "code",
   "execution_count": 53,
   "metadata": {},
   "outputs": [],
   "source": [
    "prix_df.createOrReplaceTempView(\"prix_df\")"
   ]
  },
  {
   "cell_type": "markdown",
   "metadata": {},
   "source": [
    "##### Avec le calcul du prix moyen par type de gaz en France"
   ]
  },
  {
   "cell_type": "code",
   "execution_count": 54,
   "metadata": {},
   "outputs": [],
   "source": [
    "prix_quotidien_df = spark.sql(\n",
    "    'SELECT DISTINCT libelle_carburant, date(date_releve) as date_releve, prix_moyen '\n",
    "    'FROM prix_df '\n",
    "    'WHERE libelle_carburant is not null '\n",
    "    'ORDER BY date_releve, libelle_carburant '\n",
    ").toPandas()"
   ]
  },
  {
   "cell_type": "code",
   "execution_count": 55,
   "metadata": {},
   "outputs": [
    {
     "data": {
      "text/html": [
       "<div>\n",
       "<style scoped>\n",
       "    .dataframe tbody tr th:only-of-type {\n",
       "        vertical-align: middle;\n",
       "    }\n",
       "\n",
       "    .dataframe tbody tr th {\n",
       "        vertical-align: top;\n",
       "    }\n",
       "\n",
       "    .dataframe thead th {\n",
       "        text-align: right;\n",
       "    }\n",
       "</style>\n",
       "<table border=\"1\" class=\"dataframe\">\n",
       "  <thead>\n",
       "    <tr style=\"text-align: right;\">\n",
       "      <th></th>\n",
       "      <th>libelle_carburant</th>\n",
       "      <th>date_releve</th>\n",
       "      <th>prix_moyen</th>\n",
       "    </tr>\n",
       "  </thead>\n",
       "  <tbody>\n",
       "    <tr>\n",
       "      <th>0</th>\n",
       "      <td>E10</td>\n",
       "      <td>2015-01-01</td>\n",
       "      <td>1.349731</td>\n",
       "    </tr>\n",
       "    <tr>\n",
       "      <th>1</th>\n",
       "      <td>E85</td>\n",
       "      <td>2015-01-01</td>\n",
       "      <td>0.936844</td>\n",
       "    </tr>\n",
       "    <tr>\n",
       "      <th>2</th>\n",
       "      <td>GPLc</td>\n",
       "      <td>2015-01-01</td>\n",
       "      <td>0.898101</td>\n",
       "    </tr>\n",
       "    <tr>\n",
       "      <th>3</th>\n",
       "      <td>Gazole</td>\n",
       "      <td>2015-01-01</td>\n",
       "      <td>1.197136</td>\n",
       "    </tr>\n",
       "    <tr>\n",
       "      <th>4</th>\n",
       "      <td>SP95</td>\n",
       "      <td>2015-01-01</td>\n",
       "      <td>1.350221</td>\n",
       "    </tr>\n",
       "  </tbody>\n",
       "</table>\n",
       "</div>"
      ],
      "text/plain": [
       "  libelle_carburant date_releve  prix_moyen\n",
       "0               E10  2015-01-01    1.349731\n",
       "1               E85  2015-01-01    0.936844\n",
       "2              GPLc  2015-01-01    0.898101\n",
       "3            Gazole  2015-01-01    1.197136\n",
       "4              SP95  2015-01-01    1.350221"
      ]
     },
     "execution_count": 55,
     "metadata": {},
     "output_type": "execute_result"
    }
   ],
   "source": [
    "prix_quotidien_df.head()"
   ]
  },
  {
   "cell_type": "markdown",
   "metadata": {},
   "source": [
    "### Representer l'évolution quotidienne du prix moyen de chaque type de gaz en France"
   ]
  },
  {
   "cell_type": "code",
   "execution_count": 56,
   "metadata": {
    "scrolled": false
   },
   "outputs": [
    {
     "data": {
      "text/plain": [
       "<seaborn.axisgrid.FacetGrid at 0x12064c160>"
      ]
     },
     "execution_count": 56,
     "metadata": {},
     "output_type": "execute_result"
    },
    {
     "data": {
      "image/png": "[encoded data removed]",
      "text/plain": [
       "<Figure size 1115.88x576 with 1 Axes>"
      ]
     },
     "metadata": {
      "needs_background": "light"
     },
     "output_type": "display_data"
    }
   ],
   "source": [
    "f1 = sns.FacetGrid(prix_quotidien_df.sort_values(by=['libelle_carburant', 'date_releve']), hue='libelle_carburant',\n",
    "                      size=8, aspect=16/9)\n",
    "f1.map(plt.plot, \"date_releve\", \"prix_moyen\")\n",
    "f1.set_axis_labels('Date','Prix moyen')\n",
    "f1.fig.suptitle(\"Evolution moyenne du prix moyen du gaz en France\")\n",
    "f1.add_legend()"
   ]
  },
  {
   "cell_type": "markdown",
   "metadata": {},
   "source": [
    "### Représentation cartographique"
   ]
  },
  {
   "cell_type": "markdown",
   "metadata": {},
   "source": [
    "#### Calculer l'indice moyen des prix par type de gaz sur l'ensemble des départements"
   ]
  },
  {
   "cell_type": "code",
   "execution_count": 57,
   "metadata": {},
   "outputs": [],
   "source": [
    "prix_moyen_depart = spark.sql(\n",
    "    'SELECT DISTINCT libelle_carburant, int(round(code_postal/1000, 0)) as departement, avg(indice_prix) as index_moyen '\n",
    "    'FROM prix_df '\n",
    "    'WHERE libelle_carburant is not null '\n",
    "    'GROUP BY departement, libelle_carburant '\n",
    "    'ORDER BY departement '\n",
    ").toPandas()"
   ]
  },
  {
   "cell_type": "code",
   "execution_count": 58,
   "metadata": {},
   "outputs": [
    {
     "data": {
      "text/html": [
       "<div>\n",
       "<style scoped>\n",
       "    .dataframe tbody tr th:only-of-type {\n",
       "        vertical-align: middle;\n",
       "    }\n",
       "\n",
       "    .dataframe tbody tr th {\n",
       "        vertical-align: top;\n",
       "    }\n",
       "\n",
       "    .dataframe thead th {\n",
       "        text-align: right;\n",
       "    }\n",
       "</style>\n",
       "<table border=\"1\" class=\"dataframe\">\n",
       "  <thead>\n",
       "    <tr style=\"text-align: right;\">\n",
       "      <th></th>\n",
       "      <th>libelle_carburant</th>\n",
       "      <th>departement</th>\n",
       "      <th>index_moyen</th>\n",
       "    </tr>\n",
       "  </thead>\n",
       "  <tbody>\n",
       "    <tr>\n",
       "      <th>0</th>\n",
       "      <td>E85</td>\n",
       "      <td>1</td>\n",
       "      <td>9.378861</td>\n",
       "    </tr>\n",
       "    <tr>\n",
       "      <th>1</th>\n",
       "      <td>GPLc</td>\n",
       "      <td>1</td>\n",
       "      <td>11.627235</td>\n",
       "    </tr>\n",
       "    <tr>\n",
       "      <th>2</th>\n",
       "      <td>SP95</td>\n",
       "      <td>1</td>\n",
       "      <td>0.965387</td>\n",
       "    </tr>\n",
       "    <tr>\n",
       "      <th>3</th>\n",
       "      <td>Gazole</td>\n",
       "      <td>1</td>\n",
       "      <td>2.335176</td>\n",
       "    </tr>\n",
       "    <tr>\n",
       "      <th>4</th>\n",
       "      <td>E10</td>\n",
       "      <td>1</td>\n",
       "      <td>2.356349</td>\n",
       "    </tr>\n",
       "  </tbody>\n",
       "</table>\n",
       "</div>"
      ],
      "text/plain": [
       "  libelle_carburant  departement  index_moyen\n",
       "0               E85            1     9.378861\n",
       "1              GPLc            1    11.627235\n",
       "2              SP95            1     0.965387\n",
       "3            Gazole            1     2.335176\n",
       "4               E10            1     2.356349"
      ]
     },
     "execution_count": 58,
     "metadata": {},
     "output_type": "execute_result"
    }
   ],
   "source": [
    "prix_moyen_depart.head()"
   ]
  },
  {
   "cell_type": "code",
   "execution_count": 59,
   "metadata": {},
   "outputs": [],
   "source": [
    "prix_moyen_depart_E10 = prix_moyen_depart[ prix_moyen_depart ['libelle_carburant']=='E10'].set_index('departement', drop=True)\n",
    "prix_moyen_depart_E10 = prix_moyen_depart_E10.drop('libelle_carburant', axis=1)\n",
    "dict_depart_E10 = prix_moyen_depart_E10.to_dict()\n",
    "\n",
    "prix_moyen_depart_E85 = prix_moyen_depart[ prix_moyen_depart ['libelle_carburant']=='E85'].set_index('departement', drop=True)\n",
    "prix_moyen_depart_E85 = prix_moyen_depart_E85.drop('libelle_carburant', axis=1)\n",
    "dict_depart_E85 = prix_moyen_depart_E85.to_dict()\n",
    "\n",
    "prix_moyen_depart_GPLc = prix_moyen_depart[ prix_moyen_depart ['libelle_carburant']=='GPLc'].set_index('departement', drop=True)\n",
    "prix_moyen_depart_GPLc = prix_moyen_depart_GPLc.drop('libelle_carburant', axis=1)\n",
    "dict_depart_GPLc = prix_moyen_depart_GPLc.to_dict()\n",
    "\n",
    "prix_moyen_depart_Gazole = prix_moyen_depart[ prix_moyen_depart ['libelle_carburant']=='Gazole'].set_index('departement', drop=True)\n",
    "prix_moyen_depart_Gazole = prix_moyen_depart_Gazole.drop('libelle_carburant', axis=1)\n",
    "dict_depart_Gazole = prix_moyen_depart_Gazole.to_dict()\n",
    "\n",
    "prix_moyen_depart_SP95 = prix_moyen_depart[ prix_moyen_depart ['libelle_carburant']=='SP95'].set_index('departement', drop=True)\n",
    "prix_moyen_depart_SP95 = prix_moyen_depart_SP95.drop('libelle_carburant', axis=1)\n",
    "dict_depart_SP95 = prix_moyen_depart_SP95.to_dict()\n",
    "\n",
    "prix_moyen_depart_SP98 = prix_moyen_depart[ prix_moyen_depart ['libelle_carburant']=='SP98'].set_index('departement', drop=True)\n",
    "prix_moyen_depart_SP98 = prix_moyen_depart_SP98.drop('libelle_carburant', axis=1)\n",
    "dict_depart_SP98 = prix_moyen_depart_SP98.to_dict()"
   ]
  },
  {
   "cell_type": "markdown",
   "metadata": {},
   "source": [
    "#### Représenter les cartes thermiques de l'indice moyen des prix du département France pour chaque type de gaz"
   ]
  },
  {
   "cell_type": "code",
   "execution_count": 60,
   "metadata": {},
   "outputs": [
    {
     "name": "stdout",
     "output_type": "stream",
     "text": [
      "file:///var/folders/t8/tnlxynjx3yn4dzfn_z7j1tjr0000gn/T/tmprfida8up.html\n"
     ]
    }
   ],
   "source": [
    "France_prixmoy_gaz = pygal.maps.fr.Departments(human_readable=True)\n",
    "France_prixmoy_gaz.title = 'Average index price by department'\n",
    "France_prixmoy_gaz.add('Gaz E10', dict_depart_E10['index_moyen'])\n",
    "France_prixmoy_gaz.render_in_browser()"
   ]
  },
  {
   "cell_type": "code",
   "execution_count": 61,
   "metadata": {},
   "outputs": [
    {
     "name": "stdout",
     "output_type": "stream",
     "text": [
      "file:///var/folders/t8/tnlxynjx3yn4dzfn_z7j1tjr0000gn/T/tmph960zo0a.html\n"
     ]
    }
   ],
   "source": [
    "France_prixmoy_gaz = pygal.maps.fr.Departments(human_readable=True)\n",
    "France_prixmoy_gaz.title = 'Average index price by department'\n",
    "France_prixmoy_gaz.add('Gaz E85', dict_depart_E85['index_moyen'])\n",
    "France_prixmoy_gaz.render_in_browser()"
   ]
  },
  {
   "cell_type": "code",
   "execution_count": 62,
   "metadata": {},
   "outputs": [
    {
     "name": "stdout",
     "output_type": "stream",
     "text": [
      "file:///var/folders/t8/tnlxynjx3yn4dzfn_z7j1tjr0000gn/T/tmpzbi4t4ir.html\n"
     ]
    }
   ],
   "source": [
    "France_prixmoy_gaz = pygal.maps.fr.Departments(human_readable=True)\n",
    "France_prixmoy_gaz.title = 'Prix moyen de l\"indice par département'\n",
    "France_prixmoy_gaz.add('Gaz GPLc', dict_depart_GPLc['index_moyen'])\n",
    "France_prixmoy_gaz.render_in_browser()"
   ]
  },
  {
   "cell_type": "code",
   "execution_count": 63,
   "metadata": {},
   "outputs": [
    {
     "name": "stdout",
     "output_type": "stream",
     "text": [
      "file:///var/folders/t8/tnlxynjx3yn4dzfn_z7j1tjr0000gn/T/tmpij5f41z1.html\n"
     ]
    }
   ],
   "source": [
    "France_prixmoy_gaz = pygal.maps.fr.Departments(human_readable=True)\n",
    "France_prixmoy_gaz.title = 'Prix moyen de l\"indice par département'\n",
    "France_prixmoy_gaz.add('Gaz Gazole', dict_depart_Gazole['index_moyen'])\n",
    "France_prixmoy_gaz.render_in_browser()"
   ]
  },
  {
   "cell_type": "code",
   "execution_count": 64,
   "metadata": {},
   "outputs": [
    {
     "name": "stdout",
     "output_type": "stream",
     "text": [
      "file:///var/folders/t8/tnlxynjx3yn4dzfn_z7j1tjr0000gn/T/tmpy2435p5j.html\n"
     ]
    }
   ],
   "source": [
    "France_prixmoy_gaz = pygal.maps.fr.Departments(human_readable=True)\n",
    "France_prixmoy_gaz.title = 'Prix moyen de l\"indice par département'\n",
    "France_prixmoy_gaz.add('Gaz SP95', dict_depart_SP95['index_moyen'])\n",
    "France_prixmoy_gaz.render_in_browser()"
   ]
  },
  {
   "cell_type": "code",
   "execution_count": 65,
   "metadata": {},
   "outputs": [
    {
     "name": "stdout",
     "output_type": "stream",
     "text": [
      "file:///var/folders/t8/tnlxynjx3yn4dzfn_z7j1tjr0000gn/T/tmpv3ex2apy.html\n"
     ]
    }
   ],
   "source": [
    "France_prixmoy_gaz = pygal.maps.fr.Departments(human_readable=True)\n",
    "France_prixmoy_gaz.title = 'Prix moyen de l\"indice par département'\n",
    "France_prixmoy_gaz.add('Gaz SP98', dict_depart_SP98['index_moyen'])\n",
    "France_prixmoy_gaz.render_in_browser()"
   ]
  },
  {
   "cell_type": "markdown",
   "metadata": {},
   "source": [
    "# Modeling 1 - Prix prévu pour le lendemain"
   ]
  },
  {
   "cell_type": "markdown",
   "metadata": {},
   "source": [
    "Construire un modèle basé sur Spark MLlibto prévoir le prix du lendemain pour un type de gaz dans une station.\n",
    "\n",
    "• Fournir des mesures de précision pertinentes et un graphique de dispersion pertinent entre les mesures réelles et les prévisions.\n",
    "\n",
    "• Conseils : envisagez d'utiliser les fonctions de retard (comme le prix de la veille, le prix de la veille, la veille, etc.) pour construire le modèle.\n",
    "\n",
    "• Avis important : nous ne nous attendons pas à ce que le modèle soit peaufiné, mais plutôt à ce qu'il soit fonctionnel."
   ]
  },
  {
   "cell_type": "code",
   "execution_count": 66,
   "metadata": {},
   "outputs": [],
   "source": [
    "prix_df2 = spark.sql(\n",
    "    'SELECT DISTINCT id_unique, type_carburant, libelle_carburant, date(date_releve) as date_releve, prix_moyen, prix '\n",
    "    'FROM prix_df '\n",
    "    'WHERE type_carburant=1 AND id_unique=1160005 '\n",
    "    'ORDER BY date_releve, type_carburant '\n",
    ").dropna().cache()"
   ]
  },
  {
   "cell_type": "code",
   "execution_count": 67,
   "metadata": {},
   "outputs": [],
   "source": [
    "from pyspark.sql import functions as F"
   ]
  },
  {
   "cell_type": "markdown",
   "metadata": {},
   "source": [
    "##### Creation d'une fonction retard (lag)"
   ]
  },
  {
   "cell_type": "code",
   "execution_count": 68,
   "metadata": {},
   "outputs": [],
   "source": [
    "w = Window.partitionBy().orderBy(\"id_unique\",\"libelle_carburant\",\"date_releve\")"
   ]
  },
  {
   "cell_type": "code",
   "execution_count": 69,
   "metadata": {},
   "outputs": [],
   "source": [
    "prix_df2 = prix_df2.withColumn(\"prix_1\", F.lag(prix_df2.prix).over(w))\n",
    "prix_df2 = prix_df2.withColumn(\"prix_2\", F.lag(prix_df2.prix_1).over(w))\n",
    "prix_df2 = prix_df2.withColumn(\"prix_3\", F.lag(prix_df2.prix_2).over(w))\n",
    "prix_df2 = prix_df2.withColumn(\"prix_4\", F.lag(prix_df2.prix_3).over(w))\n",
    "prix_df2 = prix_df2.withColumn(\"prix_5\", F.lag(prix_df2.prix_4).over(w))\n",
    "prix_df2 = prix_df2.withColumn(\"prix_6\", F.lag(prix_df2.prix_5).over(w))\n",
    "prix_df2 = prix_df2.withColumn(\"prix_7\", F.lag(prix_df2.prix_6).over(w))\n",
    "prix_df2 = prix_df2.withColumn(\"prix_8\", F.lag(prix_df2.prix_7).over(w))"
   ]
  },
  {
   "cell_type": "code",
   "execution_count": 70,
   "metadata": {},
   "outputs": [
    {
     "name": "stdout",
     "output_type": "stream",
     "text": [
      "root\n",
      " |-- id_unique: integer (nullable = true)\n",
      " |-- type_carburant: integer (nullable = true)\n",
      " |-- libelle_carburant: string (nullable = true)\n",
      " |-- date_releve: date (nullable = true)\n",
      " |-- prix_moyen: double (nullable = true)\n",
      " |-- prix: double (nullable = true)\n",
      " |-- prix_1: double (nullable = true)\n",
      " |-- prix_2: double (nullable = true)\n",
      " |-- prix_3: double (nullable = true)\n",
      " |-- prix_4: double (nullable = true)\n",
      " |-- prix_5: double (nullable = true)\n",
      " |-- prix_6: double (nullable = true)\n",
      " |-- prix_7: double (nullable = true)\n",
      " |-- prix_8: double (nullable = true)\n",
      "\n"
     ]
    }
   ],
   "source": [
    "prix_df2.printSchema()"
   ]
  },
  {
   "cell_type": "markdown",
   "metadata": {},
   "source": [
    "Ici, nous avons créé un nouveau dataframe où nous avons ajouté 8 nouvelles colonnes, chacune représentant un décalage par rapport à la période précédente. De cette façon, nous avons pour la même ligne le prix  d'aujourd'hui, de la veille et ce pour 8 jours."
   ]
  },
  {
   "cell_type": "code",
   "execution_count": 71,
   "metadata": {},
   "outputs": [],
   "source": [
    "prix_df2=prix_df2.dropna()"
   ]
  },
  {
   "cell_type": "code",
   "execution_count": 72,
   "metadata": {},
   "outputs": [],
   "source": [
    "from pyspark.ml.feature import VectorAssembler\n",
    "from pyspark.ml.regression import LinearRegression"
   ]
  },
  {
   "cell_type": "code",
   "execution_count": 73,
   "metadata": {},
   "outputs": [],
   "source": [
    "vectorAssembler = VectorAssembler(inputCols = ['prix_1','prix_2','prix_3','prix_4','prix_5','prix_6','prix_7','prix_8'], outputCol = 'features')\n",
    "vprix_df2 = vectorAssembler.transform(prix_df2)\n",
    "vprix_df2 = vprix_df2.select(['features', 'prix'])"
   ]
  },
  {
   "cell_type": "markdown",
   "metadata": {},
   "source": [
    "Nous utilisons le Train/test pour mettre en œuvre notre régression et ensuite faire notre prédiction."
   ]
  },
  {
   "cell_type": "code",
   "execution_count": 74,
   "metadata": {},
   "outputs": [],
   "source": [
    "split = vprix_df2.randomSplit([0.7, 0.3])\n",
    "train_df = split[0]\n",
    "test_df = split[1]"
   ]
  },
  {
   "cell_type": "markdown",
   "metadata": {},
   "source": [
    "On met en place la régression linéaire sur le train pour obtenir les coefficients de notre régression"
   ]
  },
  {
   "cell_type": "code",
   "execution_count": 76,
   "metadata": {},
   "outputs": [
    {
     "name": "stdout",
     "output_type": "stream",
     "text": [
      "Coefficients: [1.1609570898113637,-0.11999600326939856,0.004867267514196716,-0.029409104199104922,-0.003738348300285651,0.013189293702765668,-0.013219816223766038,-0.011814775861120532]\n",
      "Intercept: -0.0009540986764974766\n"
     ]
    }
   ],
   "source": [
    "lr = LinearRegression(featuresCol = 'features', labelCol='prix')\n",
    "lr_model = lr.fit(train_df)\n",
    "print(\"Coefficients: \" + str(lr_model.coefficients))\n",
    "print(\"Intercept: \" + str(lr_model.intercept))"
   ]
  },
  {
   "cell_type": "markdown",
   "metadata": {},
   "source": [
    "Résumer le modèle régressé par rapport au train : \n",
    "- RMSE nous donne la différence entre les valeurs prévues et les valeurs actuelles que nous avons.\n",
    "- R2 indique que la variabilité de notre variable est expliquée par le modèle a plus de 99%"
   ]
  },
  {
   "cell_type": "code",
   "execution_count": 79,
   "metadata": {},
   "outputs": [
    {
     "name": "stdout",
     "output_type": "stream",
     "text": [
      "RMSE: 0.006177\n",
      "r2: 0.997720\n"
     ]
    }
   ],
   "source": [
    "trainingSummary = lr_model.summary\n",
    "print(\"RMSE: %f\" % trainingSummary.rootMeanSquaredError)\n",
    "print(\"r2: %f\" % trainingSummary.r2)"
   ]
  },
  {
   "cell_type": "markdown",
   "metadata": {},
   "source": [
    "Faire la prédiction à l'aide de la régression linéaire sur le test_df pour prévoir les prix futurs"
   ]
  },
  {
   "cell_type": "code",
   "execution_count": 80,
   "metadata": {},
   "outputs": [
    {
     "name": "stdout",
     "output_type": "stream",
     "text": [
      "+------------------+-----+--------------------+\n",
      "|        prediction| prix|            features|\n",
      "+------------------+-----+--------------------+\n",
      "|0.9679877771195887|0.969|[0.969,0.969,0.96...|\n",
      "|0.9658488617754614|0.969|[0.969,0.985,0.98...|\n",
      "|0.9713245250793312|0.972|[0.972,0.972,0.97...|\n",
      "|0.9705498415720809|0.972|[0.972,0.972,0.98...|\n",
      "|0.9681478115425487|0.972|[0.972,0.989,0.99...|\n",
      "+------------------+-----+--------------------+\n",
      "only showing top 5 rows\n",
      "\n"
     ]
    }
   ],
   "source": [
    "lr_predictions = lr_model.transform(test_df)\n",
    "lr_predictions.select(\"prediction\",\"prix\",\"features\").show(5)"
   ]
  },
  {
   "cell_type": "code",
   "execution_count": 81,
   "metadata": {},
   "outputs": [
    {
     "name": "stdout",
     "output_type": "stream",
     "text": [
      "R Squared (R2) on test data = 0.998445\n",
      "Root Mean Squared Error (RMSE) on test data = 0.00564782\n"
     ]
    }
   ],
   "source": [
    "from pyspark.ml.evaluation import RegressionEvaluator\n",
    "lr_evaluator = RegressionEvaluator(predictionCol=\"prediction\", \\\n",
    "                 labelCol=\"prix\",metricName=\"r2\")\n",
    "print(\"R Squared (R2) on test data = %g\" % lr_evaluator.evaluate(lr_predictions))\n",
    "test_result = lr_model.evaluate(test_df)\n",
    "print(\"Root Mean Squared Error (RMSE) on test data = %g\" % test_result.rootMeanSquaredError)"
   ]
  },
  {
   "cell_type": "code",
   "execution_count": 82,
   "metadata": {},
   "outputs": [],
   "source": [
    "lr_predictions = lr_predictions.toPandas()"
   ]
  },
  {
   "cell_type": "markdown",
   "metadata": {},
   "source": [
    "On convertit notre tableau de prédiction sous Pandas pour pouvoir faire un graphique"
   ]
  },
  {
   "cell_type": "code",
   "execution_count": 89,
   "metadata": {},
   "outputs": [
    {
     "data": {
      "text/plain": [
       "<matplotlib.axes._subplots.AxesSubplot at 0x121fb74a8>"
      ]
     },
     "execution_count": 89,
     "metadata": {},
     "output_type": "execute_result"
    },
    {
     "data": {
      "image/png": "[encoded data removed]",
      "text/plain": [
       "<Figure size 1080x576 with 1 Axes>"
      ]
     },
     "metadata": {
      "needs_background": "light"
     },
     "output_type": "display_data"
    }
   ],
   "source": [
    "plt.figure(figsize=(15,8))\n",
    "sns.scatterplot(x = 'prix', y = 'prediction', data = lr_predictions)\n",
    "sns.regplot(x = 'prix', y = 'prediction', data = lr_predictions)"
   ]
  },
  {
   "cell_type": "markdown",
   "metadata": {},
   "source": [
    "Le graphique proposé entre les prix et les prédictions nous montre une précision élevée, car les point sont relativement proche de la droite de régression. On peut donc faire relativement confiance aux prédictions effectuées"
   ]
  }
 ],
 "metadata": {
  "kernelspec": {
   "display_name": "Python 3",
   "language": "python",
   "name": "python3"
  },
  "language_info": {
   "codemirror_mode": {
    "name": "ipython",
    "version": 3
   },
   "file_extension": ".py",
   "mimetype": "text/x-python",
   "name": "python",
   "nbconvert_exporter": "python",
   "pygments_lexer": "ipython3",
   "version": "3.7.0"
  }
 },
 "nbformat": 4,
 "nbformat_minor": 2
}
